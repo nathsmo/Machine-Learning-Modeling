{
 "cells": [
  {
   "cell_type": "code",
   "execution_count": 5,
   "metadata": {},
   "outputs": [],
   "source": [
    "import plot"
   ]
  },
  {
   "cell_type": "code",
   "execution_count": 6,
   "metadata": {},
   "outputs": [],
   "source": [
    "def imgcdf(img):\n",
    "    \"\"\"Compute the CDF on an image\n",
    "    Args: \n",
    "        img (numpy array): Source image\n",
    "    Returns:\n",
    "        cdf (list): Computed CDf of img\n",
    "        hist (list): Histogram of img\n",
    "    \"\"\"\n",
    "    pass\n",
    "\n",
    "def cdfview(cdf, hist, filename=None):\n",
    "    \"\"\"Plots the CDF and histogram in a shared x axis\n",
    "    Args:\n",
    "        cdf [list]: CDF value to compare\n",
    "        hist [list]: Histogram to compare\n",
    "        filename [string]: Optional filename to save output\n",
    "    Returns:\n",
    "        None\n",
    "    \"\"\"\n",
    "    pass\n",
    "\n",
    "def imgeq(img):\n",
    "    \"\"\" Equalize a grayscale image\n",
    "    Args:\n",
    "        img (numpy array): Grayscale image to equalize\n",
    "    Returns:\n",
    "        eq (numpy array): Equalized image\n",
    "    \"\"\"\n",
    "    pass"
   ]
  },
  {
   "cell_type": "code",
   "execution_count": null,
   "metadata": {},
   "outputs": [],
   "source": []
  }
 ],
 "metadata": {
  "kernelspec": {
   "display_name": "Python 3",
   "language": "python",
   "name": "python3"
  },
  "language_info": {
   "codemirror_mode": {
    "name": "ipython",
    "version": 3
   },
   "file_extension": ".py",
   "mimetype": "text/x-python",
   "name": "python",
   "nbconvert_exporter": "python",
   "pygments_lexer": "ipython3",
   "version": "3.7.2"
  }
 },
 "nbformat": 4,
 "nbformat_minor": 2
}
